{
 "cells": [
  {
   "cell_type": "markdown",
   "metadata": {},
   "source": [
    "# Listas\n",
    "En Python, una lista puede guardar cualquier tipo de variable. Además, las listas sí son modificables."
   ]
  },
  {
   "cell_type": "markdown",
   "metadata": {},
   "source": [
    "### Crear una lista"
   ]
  },
  {
   "cell_type": "code",
   "execution_count": null,
   "metadata": {
    "collapsed": true
   },
   "outputs": [],
   "source": [
    "lista1 = [1,2,3]\n",
    "lista2 = []\n",
    "lista3 = list()"
   ]
  },
  {
   "cell_type": "markdown",
   "metadata": {},
   "source": [
    "### Indexar\n",
    "Python cuenta desde el elemento cero"
   ]
  },
  {
   "cell_type": "code",
   "execution_count": 1,
   "metadata": {
    "collapsed": false
   },
   "outputs": [
    {
     "name": "stdout",
     "output_type": "stream",
     "text": [
      "Andes\n",
      "['Fresa', 'Banano', 'Mango', 'Mora']\n",
      "[23, True]\n"
     ]
    }
   ],
   "source": [
    "mi_lista = [\"Andes\", 23, True, 100.5, \"Miguel\", False, 1, [\"Fresa\", \"Banano\", \"Mango\", \"Mora\"]]\n",
    "\n",
    "print(mi_lista[0])\n",
    "print(mi_lista[-1])\n",
    "print(mi_lista[1:3])"
   ]
  },
  {
   "cell_type": "markdown",
   "metadata": {},
   "source": [
    "### Funciones importantes #1"
   ]
  },
  {
   "cell_type": "code",
   "execution_count": 2,
   "metadata": {
    "collapsed": false
   },
   "outputs": [
    {
     "name": "stdout",
     "output_type": "stream",
     "text": [
      "Tamaño: 9\n",
      "Lista ordenada: [1, 2, 3, 4, 6, 8, 10, 14, 45]\n",
      "Máximo: 45\n",
      "Mínimo:  1\n",
      "Promedio:  10.333333333333334\n"
     ]
    }
   ],
   "source": [
    "new_list = [4,3,6,8,10,2,14,1,45]\n",
    "\n",
    "tamaño = len(new_list)\n",
    "print(\"Tamaño: \" + str(tamaño))\n",
    "ordenada = sorted(new_list)\n",
    "print(\"Lista ordenada: \" + str(ordenada))\n",
    "maximo = max(new_list)\n",
    "print(\"Máximo: \" + str(maximo))\n",
    "minimo = min(new_list)\n",
    "print(\"Mínimo: \", minimo)\n",
    "promedio = sum(new_list)/len(new_list)\n",
    "print(\"Promedio: \", promedio)"
   ]
  },
  {
   "cell_type": "code",
   "execution_count": 3,
   "metadata": {
    "collapsed": false
   },
   "outputs": [
    {
     "name": "stdout",
     "output_type": "stream",
     "text": [
      "Después de modificar: [6, 10, 2, 14, 1, 45, 50]\n",
      "Después de ordenar: [50, 45, 14, 10, 6, 2, 1]\n"
     ]
    }
   ],
   "source": [
    "#Agregar elemento\n",
    "new_list.append(50)\n",
    "\n",
    "#Quitar elemento\n",
    "new_list.remove(8)\n",
    "new_list.remove(new_list[0])\n",
    "del(new_list[0])\n",
    "\n",
    "print(\"Después de modificar: \" + str(new_list))\n",
    "\n",
    "#Ordenar in-place\n",
    "new_list.sort(reverse = True)\n",
    "\n",
    "print(\"Después de ordenar: \" + str(new_list))"
   ]
  },
  {
   "cell_type": "markdown",
   "metadata": {},
   "source": [
    "### Funciones importantes #2"
   ]
  },
  {
   "cell_type": "code",
   "execution_count": 4,
   "metadata": {
    "collapsed": false
   },
   "outputs": [
    {
     "name": "stdout",
     "output_type": "stream",
     "text": [
      "Después de agregar elemento:  [-1, 4, 3, 6, 8, 10, 2, 14, 1, 45]\n",
      "El 6 está en la posición 3\n",
      "El 6 aparece 1 veces en la lista\n"
     ]
    }
   ],
   "source": [
    "new_list = [4,3,6,8,10,2,14,1,45]\n",
    "\n",
    "#Insertar un elemento en un lugar específico\n",
    "new_list.insert(0,-1)\n",
    "\n",
    "print(\"Después de agregar elemento: \", new_list)\n",
    "\n",
    "#Saber cuál es el índice de cierto elemento\n",
    "var = 6\n",
    "pos = new_list.index(var)\n",
    "print(\"El \" + str(var) + \" está en la posición \" + str(pos))\n",
    "\n",
    "#Contar cuántas veces aparece un elemento\n",
    "cuantas = new_list.count(var)\n",
    "print(\"El \" + str(var) + \" aparece \" + str(cuantas)+ \" veces en la lista\")"
   ]
  },
  {
   "cell_type": "markdown",
   "metadata": {},
   "source": [
    "### De string a list y de list a string"
   ]
  },
  {
   "cell_type": "code",
   "execution_count": 5,
   "metadata": {
    "collapsed": false
   },
   "outputs": [
    {
     "name": "stdout",
     "output_type": "stream",
     "text": [
      "['U', 'n', 'i', 'v', 'e', 'r', 's', 'i', 'd', 'a', 'd', ' ', 'd', 'e', ' ', 'l', 'o', 's', ' ', 'A', 'n', 'd', 'e', 's']\n"
     ]
    }
   ],
   "source": [
    "palabra = \"Universidad de los Andes\"\n",
    "lista = list(palabra)\n",
    "print(lista)"
   ]
  },
  {
   "cell_type": "code",
   "execution_count": 6,
   "metadata": {
    "collapsed": false
   },
   "outputs": [
    {
     "name": "stdout",
     "output_type": "stream",
     "text": [
      "Así se junta la lista sin separador: aeiou.\n",
      "Así se junta la lista con separador: a, e, i, o, u\n"
     ]
    }
   ],
   "source": [
    "lista = [\"a\",\"e\",\"i\",\"o\",\"u\"]\n",
    "pegado = \"\".join(lista)\n",
    "separado = \", \".join(lista)\n",
    "\n",
    "print(\"Así se junta la lista sin separador: \" + pegado + \".\\nAsí se junta la lista con separador: \" + separado)"
   ]
  },
  {
   "cell_type": "markdown",
   "metadata": {},
   "source": [
    "### Concatenar listas\n",
    "¿Qué pasa cuando se suman dos listas?"
   ]
  },
  {
   "cell_type": "code",
   "execution_count": 7,
   "metadata": {
    "collapsed": false
   },
   "outputs": [
    {
     "name": "stdout",
     "output_type": "stream",
     "text": [
      "[1, 2, 3, 4, 5, 6]\n"
     ]
    }
   ],
   "source": [
    "l1 = [1,2,3]\n",
    "l2 = [4,5,6]\n",
    "l3 = l1 + l2\n",
    "\n",
    "print(l3)"
   ]
  },
  {
   "cell_type": "markdown",
   "metadata": {},
   "source": [
    "### Clonar una lista\n",
    "En Python es muy importante clonar una lista antes de trabajar con esta, especialmente cuando no se deben cambiar sus contenidos iniciales"
   ]
  },
  {
   "cell_type": "code",
   "execution_count": 8,
   "metadata": {
    "collapsed": false
   },
   "outputs": [
    {
     "name": "stdout",
     "output_type": "stream",
     "text": [
      "li: ['Javeriana', 'Capítulo', 'Industrial', 'Estudiantes'] \n",
      "lis: ['Javeriana', 'Capítulo', 'Industrial', 'Estudiantes']\n",
      "li: ['Javeriana', 'Capítulo', 'Industrial', 'Profesores'] \n",
      "lis: ['Javeriana', 'Capítulo', 'Industrial', 'Profesores']\n"
     ]
    }
   ],
   "source": [
    "#Esto está MAL\n",
    "li = [\"Andes\", \"Capítulo\", \"Industrial\", \"Estudiantes\"]\n",
    "lis = li\n",
    "\n",
    "lis[0] = \"Javeriana\"\n",
    "print(\"li:\",li,\"\\nlis:\",lis)\n",
    "\n",
    "li[-1] = \"Profesores\"\n",
    "print(\"li:\",li,\"\\nlis:\",lis)"
   ]
  },
  {
   "cell_type": "code",
   "execution_count": 9,
   "metadata": {
    "collapsed": false
   },
   "outputs": [
    {
     "name": "stdout",
     "output_type": "stream",
     "text": [
      "li: ['Andes', 'Capítulo', 'Industrial', 'Estudiantes'] \n",
      "lis: ['Javeriana', 'Capítulo', 'Industrial', 'Estudiantes']\n",
      "li: ['Andes', 'Capítulo', 'Industrial', 'Profesores'] \n",
      "lis: ['Javeriana', 'Capítulo', 'Industrial', 'Estudiantes']\n"
     ]
    }
   ],
   "source": [
    "#Esto está BIEN\n",
    "li = [\"Andes\", \"Capítulo\", \"Industrial\", \"Estudiantes\"]\n",
    "lis = li[:] #Aquí está el éxito\n",
    "\n",
    "lis[0] = \"Javeriana\"\n",
    "print(\"li:\",li,\"\\nlis:\",lis)\n",
    "\n",
    "li[-1] = \"Profesores\"\n",
    "print(\"li:\",li,\"\\nlis:\",lis)"
   ]
  },
  {
   "cell_type": "markdown",
   "metadata": {},
   "source": [
    "### Ejercicio #1\n",
    "Repita el saludo 30 veces con espacio entre saludos pero **sin** el último espacio. Finalice el saludo con un punto."
   ]
  },
  {
   "cell_type": "code",
   "execution_count": null,
   "metadata": {
    "collapsed": false
   },
   "outputs": [],
   "source": [
    "saludo = \"hola\""
   ]
  },
  {
   "cell_type": "code",
   "execution_count": null,
   "metadata": {
    "collapsed": true
   },
   "outputs": [],
   "source": []
  },
  {
   "cell_type": "markdown",
   "metadata": {},
   "source": [
    "### Ejercicio #2\n",
    "Haga una lista con un 1 en la mitad rodeado de 30 ceros a cada lado"
   ]
  },
  {
   "cell_type": "code",
   "execution_count": null,
   "metadata": {
    "collapsed": false
   },
   "outputs": [],
   "source": []
  },
  {
   "cell_type": "markdown",
   "metadata": {},
   "source": [
    "# Sets\n",
    "Un set es simplemente una lista pero donde los elementos son únicos"
   ]
  },
  {
   "cell_type": "code",
   "execution_count": null,
   "metadata": {
    "collapsed": false
   },
   "outputs": [],
   "source": [
    "my_list = [1,1,2,2,3,3,4,4,5,5]\n",
    "my_set = set(my_list)\n",
    "\n",
    "print(my_set)"
   ]
  },
  {
   "cell_type": "code",
   "execution_count": null,
   "metadata": {
    "collapsed": false
   },
   "outputs": [],
   "source": [
    "set(\"abracadabra\")"
   ]
  },
  {
   "cell_type": "markdown",
   "metadata": {},
   "source": [
    "### No se pueden indexar"
   ]
  },
  {
   "cell_type": "code",
   "execution_count": null,
   "metadata": {
    "collapsed": false
   },
   "outputs": [],
   "source": [
    "letras = set(\"abracadabra\")\n",
    "letras[0]"
   ]
  },
  {
   "cell_type": "markdown",
   "metadata": {},
   "source": [
    "### Funciones básicas"
   ]
  },
  {
   "cell_type": "code",
   "execution_count": null,
   "metadata": {
    "collapsed": false
   },
   "outputs": [],
   "source": [
    "#Agregar un elemento\n",
    "letras.add('e')\n",
    "\n",
    "#Se pueden restar (pero no sumar)\n",
    "abracadabra = set(\"abracadabra\")\n",
    "alacazam = set(\"alacazam\")\n",
    "print(\"Resta: \", abracadabra - alacazam)\n",
    "\n",
    "#Se pueden hacer operaciones típicas de sets\n",
    "#Unión (en abracadabra o alacazam o los dos)\n",
    "print(\"Unión: \", abracadabra | alacazam)\n",
    "#Intersección (en abracadabra y alacazam)\n",
    "print(\"Intersección: \", abracadabra & alacazam)"
   ]
  },
  {
   "cell_type": "markdown",
   "metadata": {},
   "source": [
    "### Ejercicio #3\n",
    "Cuente el número de letras únicas en la frase 'Taller de Python del Capitulo Uniandino de Ingenieria Industrial'. Asuma que las mayúsculas y minúsculas son letras diferentes. **Ojo** el espacio no es una letra."
   ]
  },
  {
   "cell_type": "code",
   "execution_count": null,
   "metadata": {
    "collapsed": false
   },
   "outputs": [],
   "source": []
  },
  {
   "cell_type": "markdown",
   "metadata": {},
   "source": [
    "### Ejercicio #4\n",
    "Haga lo mismo que en el ejercicio #3 pero ahora las mayúsculas y minúsculas no deberían contar por separado."
   ]
  },
  {
   "cell_type": "code",
   "execution_count": null,
   "metadata": {
    "collapsed": false
   },
   "outputs": [],
   "source": []
  },
  {
   "cell_type": "markdown",
   "metadata": {},
   "source": [
    "# Tuplas\n",
    "Una tupla es una especia de lista, pero lo más importante es que es inmutable, es decir que no se puede modificar. Suele ser útil para devolver salidas de funciones."
   ]
  },
  {
   "cell_type": "markdown",
   "metadata": {},
   "source": [
    "### Crear una tupla"
   ]
  },
  {
   "cell_type": "code",
   "execution_count": null,
   "metadata": {
    "collapsed": true
   },
   "outputs": [],
   "source": [
    "tuple1 = (1,2,3,4)\n",
    "tuple2 = ()\n",
    "tuple3 = tuple"
   ]
  },
  {
   "cell_type": "markdown",
   "metadata": {},
   "source": [
    "### Asignación múltiple"
   ]
  },
  {
   "cell_type": "code",
   "execution_count": null,
   "metadata": {
    "collapsed": true
   },
   "outputs": [],
   "source": [
    "a, b, c = 1, 2, 3"
   ]
  },
  {
   "cell_type": "markdown",
   "metadata": {},
   "source": [
    "### Tuplas de un elemento"
   ]
  },
  {
   "cell_type": "code",
   "execution_count": null,
   "metadata": {
    "collapsed": false
   },
   "outputs": [],
   "source": [
    "lonely_tuple = (\"Hola\")\n",
    "print(type(lonely_tuple))"
   ]
  },
  {
   "cell_type": "code",
   "execution_count": null,
   "metadata": {
    "collapsed": false
   },
   "outputs": [],
   "source": [
    "lonely_tuple = (\"Hola\",)\n",
    "print(type(lonely_tuple))"
   ]
  },
  {
   "cell_type": "markdown",
   "metadata": {},
   "source": [
    "# Diccionarios\n",
    "Es un objeto muy útil en Python porque permite asociar una clave a un valor. La clave debe ser un objeto inmutable (strings, tuplas), mientras que el valor sí puede ser cualquier tipo de objeto."
   ]
  },
  {
   "cell_type": "code",
   "execution_count": null,
   "metadata": {
    "collapsed": false
   },
   "outputs": [],
   "source": [
    "carpeta = {\"Miguel\": 4, \"José\": 4.3, \"Paquito\": 2.5, \"Tomasina\": 4.8, \"Martha\": 3, \"Eduardo\": 2.9, \"Raquel\": 3.9}\n",
    "\n",
    "estudiantes = carpeta.keys()\n",
    "notas = carpeta.values()\n",
    "\n",
    "print(carpeta, \"\\n\", list(estudiantes), \"\\n\", list(notas))"
   ]
  },
  {
   "cell_type": "markdown",
   "metadata": {},
   "source": [
    "### Funciones básicas"
   ]
  },
  {
   "cell_type": "code",
   "execution_count": null,
   "metadata": {
    "collapsed": false
   },
   "outputs": [],
   "source": [
    "#Agregar un elemento\n",
    "carpeta[\"Mario\"] = 5\n",
    "carpeta"
   ]
  },
  {
   "cell_type": "code",
   "execution_count": null,
   "metadata": {
    "collapsed": false
   },
   "outputs": [],
   "source": [
    "#Evaluar el valor asociado a una clave\n",
    "carpeta[\"Miguel\"]"
   ]
  },
  {
   "cell_type": "code",
   "execution_count": null,
   "metadata": {
    "collapsed": false
   },
   "outputs": [],
   "source": [
    "#Saber si algo está en un diccionario\n",
    "print(\"Miguel\" in carpeta)\n",
    "print(\"Nicolás\" in carpeta)"
   ]
  },
  {
   "cell_type": "code",
   "execution_count": null,
   "metadata": {
    "collapsed": false
   },
   "outputs": [],
   "source": [
    "#Borrar algo del diccionario\n",
    "del(carpeta[\"Miguel\"])\n",
    "carpeta"
   ]
  },
  {
   "cell_type": "code",
   "execution_count": null,
   "metadata": {
    "collapsed": false
   },
   "outputs": [],
   "source": [
    "#Ordenarlo por la nota\n",
    "sorted(carpeta, key = carpeta.get, reverse = True)"
   ]
  },
  {
   "cell_type": "markdown",
   "metadata": {},
   "source": [
    "### Buscar algo sin estar seguro que la clave está en el diccionario"
   ]
  },
  {
   "cell_type": "code",
   "execution_count": null,
   "metadata": {
    "collapsed": false
   },
   "outputs": [],
   "source": [
    "#¿Qué pasa si la clave no está?\n",
    "carpeta[\"Isa\"]"
   ]
  },
  {
   "cell_type": "code",
   "execution_count": null,
   "metadata": {
    "collapsed": false
   },
   "outputs": [],
   "source": [
    "#¿Cómo corregirlo?\n",
    "carpeta.get(\"Isa\", 0)"
   ]
  },
  {
   "cell_type": "markdown",
   "metadata": {},
   "source": [
    "### Clonar un diccionario\n",
    "Para los diccionarios, es igual de importante clonarlos como lo es con las listas. De esta forma se evita dañar la información."
   ]
  },
  {
   "cell_type": "code",
   "execution_count": null,
   "metadata": {
    "collapsed": false
   },
   "outputs": [],
   "source": [
    "copia_carpeta = carpeta.copy()\n",
    "carpeta is copia_carpeta"
   ]
  }
 ],
 "metadata": {
  "kernelspec": {
   "display_name": "Python 3",
   "language": "python",
   "name": "python3"
  },
  "language_info": {
   "codemirror_mode": {
    "name": "ipython",
    "version": 3
   },
   "file_extension": ".py",
   "mimetype": "text/x-python",
   "name": "python",
   "nbconvert_exporter": "python",
   "pygments_lexer": "ipython3",
   "version": "3.6.0"
  }
 },
 "nbformat": 4,
 "nbformat_minor": 2
}
