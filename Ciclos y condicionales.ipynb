{
 "cells": [
  {
   "cell_type": "markdown",
   "metadata": {},
   "source": [
    "# Antes de empezar\n",
    "En Python, indentar **no** es cuestión de estética y hacer que el código se vea mejor. En Python, indentar es obligatorio para que se entienda a qué están asociados los bloques de código"
   ]
  },
  {
   "cell_type": "markdown",
   "metadata": {},
   "source": [
    "# If"
   ]
  },
  {
   "cell_type": "code",
   "execution_count": null,
   "metadata": {
    "collapsed": false
   },
   "outputs": [],
   "source": [
    "#Ejemplo básico\n",
    "x, y = 8, 3\n",
    "\n",
    "if x < y:\n",
    "    print(x, \"es menor que\", y)\n",
    "elif x > y:\n",
    "    print(x, \"es mayor que\", y)\n",
    "else:\n",
    "    print(x, \"y\", y, \"son iguales\")"
   ]
  },
  {
   "cell_type": "code",
   "execution_count": null,
   "metadata": {
    "collapsed": false
   },
   "outputs": [],
   "source": [
    "#Ejemplo básico\n",
    "x = int(input(\"Porfavor ingrese un entero: \"))\n",
    "\n",
    "if x < 0:\n",
    "    print(x, \"es negativo\")\n",
    "elif x > 0:\n",
    "    print(x, \"es positivo\")\n",
    "else:\n",
    "    print(x, \"es cero\")"
   ]
  },
  {
   "cell_type": "markdown",
   "metadata": {
    "collapsed": false
   },
   "source": [
    "# For"
   ]
  },
  {
   "cell_type": "markdown",
   "metadata": {},
   "source": [
    "### Al que estamos acostumbrados\n",
    "```java\n",
    "for(i=0; i<10; i++){\n",
    "    ...\n",
    "}\n",
    "```"
   ]
  },
  {
   "cell_type": "code",
   "execution_count": null,
   "metadata": {
    "collapsed": false
   },
   "outputs": [],
   "source": [
    "lista = [\"Adelaida\",\"Agustina\", \"Alana\", \"Alejandra\", \"Alicia\", \"Amalia\", \"Amanda\", \"Ana\", \"Anastasia\", \"Andrea\"]\n",
    "\n",
    "tam = len(lista)\n",
    "for i in range(0,tam,1):\n",
    "    print(lista[i], len(lista[i]))"
   ]
  },
  {
   "cell_type": "code",
   "execution_count": null,
   "metadata": {
    "collapsed": false
   },
   "outputs": [],
   "source": [
    "#Más fácil\n",
    "for i in range(tam):\n",
    "    print(lista[i], len(lista[i]))"
   ]
  },
  {
   "cell_type": "code",
   "execution_count": null,
   "metadata": {
    "collapsed": false
   },
   "outputs": [],
   "source": [
    "#Más fácil todavía\n",
    "for nombre in lista:\n",
    "    print(nombre, len(nombre))"
   ]
  },
  {
   "cell_type": "markdown",
   "metadata": {},
   "source": [
    "### Objeto ```range(start, stop, step)```"
   ]
  },
  {
   "cell_type": "code",
   "execution_count": null,
   "metadata": {
    "collapsed": false
   },
   "outputs": [],
   "source": [
    "for i in range(5):\n",
    "    print(i, end = \" \")"
   ]
  },
  {
   "cell_type": "code",
   "execution_count": null,
   "metadata": {
    "collapsed": false
   },
   "outputs": [],
   "source": [
    "for i in range(1,10,2):\n",
    "    print(i)"
   ]
  },
  {
   "cell_type": "markdown",
   "metadata": {},
   "source": [
    "Es importante que este objeto no es una lista para Python, es un objeto específico que se llama ```range()```"
   ]
  },
  {
   "cell_type": "code",
   "execution_count": null,
   "metadata": {
    "collapsed": false
   },
   "outputs": [],
   "source": [
    "range(5)"
   ]
  },
  {
   "cell_type": "code",
   "execution_count": null,
   "metadata": {
    "collapsed": false
   },
   "outputs": [],
   "source": [
    "type(range(5))"
   ]
  },
  {
   "cell_type": "code",
   "execution_count": null,
   "metadata": {
    "collapsed": false
   },
   "outputs": [],
   "source": [
    "list(range(5))"
   ]
  },
  {
   "cell_type": "markdown",
   "metadata": {},
   "source": [
    "### Si uno necesita el índice: ```enumerate()```"
   ]
  },
  {
   "cell_type": "code",
   "execution_count": null,
   "metadata": {
    "collapsed": false
   },
   "outputs": [],
   "source": [
    "sonidos = [\"bum\", \"snap\", \"clap\", \"tas\", \"click\", \"rawr\", \"pong\"]\n",
    "\n",
    "for i, v in enumerate(sonidos):\n",
    "    print(i,v)"
   ]
  },
  {
   "cell_type": "markdown",
   "metadata": {},
   "source": [
    "### Recorrer una tupla"
   ]
  },
  {
   "cell_type": "code",
   "execution_count": null,
   "metadata": {
    "collapsed": false
   },
   "outputs": [],
   "source": [
    "#Crear el arreglo\n",
    "import random\n",
    "coordenadas = []\n",
    "for i in range(10):\n",
    "    x = int(random.uniform(-100,100))\n",
    "    y = int(random.uniform(-100,100))\n",
    "    tupla = (x,y)\n",
    "    coordenadas.append(tupla)"
   ]
  },
  {
   "cell_type": "code",
   "execution_count": null,
   "metadata": {
    "collapsed": false
   },
   "outputs": [],
   "source": [
    "#Recorrer el arreglo\n",
    "for x, y in coordenadas:\n",
    "    print(\"La coordenada x es : \", x, \". La coordenada y es: \", y)"
   ]
  },
  {
   "cell_type": "markdown",
   "metadata": {},
   "source": [
    "### Recorrer un diccionario\n",
    "Por default, Python recorre un diccionario por sus keys."
   ]
  },
  {
   "cell_type": "code",
   "execution_count": null,
   "metadata": {
    "collapsed": false
   },
   "outputs": [],
   "source": [
    "heroes = {'Simbad': 'el marino', 'Coraje': 'el perro cobarde', 'Plinio': 'el viejo', 'Aquiles': 'el guerrero',\n",
    "         'Batman': 'el caballero de la noche', 'Harry Potter': 'el elegido', 'Superman': 'el marciano'}\n",
    "\n",
    "for heroe in heroes:\n",
    "    print(heroe, heroes[heroe])"
   ]
  },
  {
   "cell_type": "code",
   "execution_count": null,
   "metadata": {
    "collapsed": false
   },
   "outputs": [],
   "source": [
    "#También se puede recorrer por keys y values al tiempo\n",
    "for k, v in heroes.items():\n",
    "    print(k,v)"
   ]
  },
  {
   "cell_type": "markdown",
   "metadata": {},
   "source": [
    "### Ciclo for en una línea"
   ]
  },
  {
   "cell_type": "code",
   "execution_count": null,
   "metadata": {
    "collapsed": false
   },
   "outputs": [],
   "source": [
    "numeros = [0,1,2,3,4,5,6,7,8,9]\n",
    "[x**2 for x in numeros]"
   ]
  },
  {
   "cell_type": "markdown",
   "metadata": {},
   "source": [
    "### Key words\n",
    "Para salirse de un loop en Python antes de que finalice, se usa el comando ```break```. Para no hacer nada en algun punto de la corrida, se usa el comando ```pass```."
   ]
  },
  {
   "cell_type": "code",
   "execution_count": null,
   "metadata": {
    "collapsed": false
   },
   "outputs": [],
   "source": [
    "#Está el número 3 en la lista?\n",
    "lista = [4,7,6,9,88,2,3,11,33,5,19,21,35]\n",
    "esta = False\n",
    "for i in lista:\n",
    "    if i == 3:\n",
    "        esta = True\n",
    "        break\n",
    "esta"
   ]
  },
  {
   "cell_type": "code",
   "execution_count": null,
   "metadata": {
    "collapsed": false
   },
   "outputs": [],
   "source": [
    "#Está el número 3 en la lista?\n",
    "lista = [4,7,6,9,88,2,3,11,33,5,19,21,35]\n",
    "3 in lista"
   ]
  },
  {
   "cell_type": "markdown",
   "metadata": {},
   "source": [
    "### Ejercicio #5\n",
    "Imprima el nombre y la nota de los estudiantes de **iind** en el siguiente formato:\n",
    "\"Nombre estudiante\" : \"Nota\""
   ]
  },
  {
   "cell_type": "code",
   "execution_count": null,
   "metadata": {
    "collapsed": true
   },
   "outputs": [],
   "source": [
    "carpeta = {\"Miguel\":[\"iind\", 4], \"Richie\": [\"imec\", 4.1], \"Sandro\": [\"hist\", 3.8], \"Crescencio\":[\"admi\", 4.5],\n",
    "          \"Tommy\": [\"iind\", 4.35], \"Pablito\": [\"iqui\", 3], \"Carlos\": [\"econ\", 4.4], \"Lucho\": [\"iind\", 3.9],\n",
    "          \"Nacho\": [\"admi\", 5], \"Alvaro\": [\"iind\", 2], \"Boris\": [\"imec\", 4.8], \"Mauro\": [\"isis\", 4.2],\n",
    "          \"Nico\": [\"iqui\", 4.9], \"Guillo\": [\"iind\", 2.99], \"Diego\": [\"hist\", 4], \"Quique\": [\"admi\", 5]}"
   ]
  },
  {
   "cell_type": "code",
   "execution_count": null,
   "metadata": {
    "collapsed": true
   },
   "outputs": [],
   "source": []
  },
  {
   "cell_type": "markdown",
   "metadata": {},
   "source": [
    "### Ejercicio #6\n",
    "Ahora haga una lista de listas donde el primer elemento de las listas internas sea el nombre y el segundo la nota de los estudiantes de **ind**. Hágalo en una línea de código."
   ]
  },
  {
   "cell_type": "code",
   "execution_count": null,
   "metadata": {
    "collapsed": false,
    "scrolled": true
   },
   "outputs": [],
   "source": []
  },
  {
   "cell_type": "markdown",
   "metadata": {},
   "source": [
    "### Ejercicio #7\n",
    "Haga un diccionario a partir de las dos listas dadas, donde la clave debería ser el departamento y el valor su capital. **No** puede usar los índices de las listas. **Hint:** investigue la función ```zip()```en la documentación de Python."
   ]
  },
  {
   "cell_type": "code",
   "execution_count": null,
   "metadata": {
    "collapsed": false
   },
   "outputs": [],
   "source": [
    "deptos = [\"amazonas\", \"antioquia\", \"cundinamarca\", \"bolívar\", \"chocó\", \"tolima\", \"boyacá\", \"atlántico\", \n",
    "          \"nariño\", \"vaupés\", \"arauca\", \"córdoba\", \"meta\", \"cauca\", \"cesar\"]\n",
    "capitales = [\"leticia\", \"medellín\", \"bogotá\", \"cartagena\", \"quibdó\", \"ibagué\", \"tunja\", \"barranquilla\",\n",
    "            \"pasto\", \"mitú\", \"arauca\", \"montería\", \"villavicencio\", \"popayán\", \"valledupar\"]"
   ]
  },
  {
   "cell_type": "code",
   "execution_count": null,
   "metadata": {
    "collapsed": false
   },
   "outputs": [],
   "source": []
  },
  {
   "cell_type": "markdown",
   "metadata": {},
   "source": [
    "# While"
   ]
  },
  {
   "cell_type": "code",
   "execution_count": null,
   "metadata": {
    "collapsed": false
   },
   "outputs": [],
   "source": [
    "x = float(input(\"Porfavor ingrese un número positivo: \"))\n",
    "\n",
    "while x <= 0 and True:\n",
    "    x = float(input(\"Porfavor ingrese un número positivo: \"))\n",
    "print(\"Bravo!\")"
   ]
  },
  {
   "cell_type": "markdown",
   "metadata": {},
   "source": [
    "# Sacarle \"jugo\" a Python\n",
    "Dado un número, determine si este es primo o no."
   ]
  },
  {
   "cell_type": "code",
   "execution_count": null,
   "metadata": {
    "collapsed": false
   },
   "outputs": [],
   "source": [
    "#Forma clásica y larga\n",
    "n = int(input(\"Porfavor ingrese un número: \"))\n",
    "primo = True\n",
    "\n",
    "for i in range(2,n):\n",
    "    if n%i == 0:\n",
    "        primo = False\n",
    "        \n",
    "print(\"Sí es primo\") if primo else print(\"No es primo\")"
   ]
  },
  {
   "cell_type": "code",
   "execution_count": null,
   "metadata": {
    "collapsed": false
   },
   "outputs": [],
   "source": [
    "#Forma corta\n",
    "n = int(input(\"Porfavor ingrese un número: \"))\n",
    "\n",
    "primo = not any([n%i == 0 for i in range(2,n)])\n",
    "\n",
    "print(\"Sí es primo\") if primo else print(\"No es primo\")"
   ]
  }
 ],
 "metadata": {
  "kernelspec": {
   "display_name": "Python 3",
   "language": "python",
   "name": "python3"
  },
  "language_info": {
   "codemirror_mode": {
    "name": "ipython",
    "version": 3
   },
   "file_extension": ".py",
   "mimetype": "text/x-python",
   "name": "python",
   "nbconvert_exporter": "python",
   "pygments_lexer": "ipython3",
   "version": "3.6.0"
  }
 },
 "nbformat": 4,
 "nbformat_minor": 2
}
